{
 "cells": [
  {
   "cell_type": "markdown",
   "metadata": {},
   "source": [
    "# Codenames clue giving"
   ]
  },
  {
   "cell_type": "markdown",
   "metadata": {},
   "source": [
    "These cells will be in the same order as in the blog post [here](https://jamesmullenbach.github.io/2018/01/02/codenames-fun.html) if you want to follow along."
   ]
  },
  {
   "cell_type": "markdown",
   "metadata": {},
   "source": [
    "Let's start by building the board."
   ]
  },
  {
   "cell_type": "code",
   "execution_count": 4,
   "metadata": {},
   "outputs": [],
   "source": [
    "import gensim\n",
    "model = gensim.models.KeyedVectors.load_word2vec_format('GoogleNews-vectors-negative300.bin', binary=True, limit=200000)\n",
    "ours = ['watch', 'star', 'mole', 'Berlin', 'limousine', 'day', 'wind', 'cap', 'thumb']                                  \n",
    "theirs = ['smuggler', 'crown', 'cotton', 'palm', 'pumpkin', 'giant', 'link', 'dog']                                     \n",
    "assassin = 'tie'"
   ]
  },
  {
   "cell_type": "markdown",
   "metadata": {},
   "source": [
    "Simple one word clue method:"
   ]
  },
  {
   "cell_type": "code",
   "execution_count": 5,
   "metadata": {
    "collapsed": true
   },
   "outputs": [],
   "source": [
    "clues = {}\n",
    "for our_word in ours:\n",
    "    #get similar words from google vocab, and lowercase them\n",
    "    candidates = [(c.lower(), s) for c,s in model.most_similar(positive=[our_word], topn=50)]\n",
    "    #per game rules, we should exclude multi-word results and words that use part of the clue word.\n",
    "    #we could use stemmers for this maybe, but let's keep it simple\n",
    "    clues[our_word] = [(c,s) for c,s in candidates if '_' not in c and c not in our_word and our_word not in c][:5]"
   ]
  },
  {
   "cell_type": "code",
   "execution_count": 9,
   "metadata": {},
   "outputs": [
    {
     "data": {
      "text/plain": [
       "{'Berlin': (u'munich', 0.6743212938308716),\n",
       " 'cap': (u'hat', 0.4268711507320404),\n",
       " 'day': (u'week', 0.65529865026474),\n",
       " 'limousine': (u'limos', 0.6517890095710754),\n",
       " 'mole': (u'birthmark', 0.46605658531188965),\n",
       " 'star': (u'heartthrob', 0.543801486492157),\n",
       " 'thumb': (u'pinkie', 0.6484930515289307),\n",
       " 'watch': (u'see', 0.5326846837997437),\n",
       " 'wind': (u'gusts', 0.5962637662887573)}"
      ]
     },
     "execution_count": 9,
     "metadata": {},
     "output_type": "execute_result"
    }
   ],
   "source": [
    "{word: clue[0] for word,clue in clues.items()}"
   ]
  },
  {
   "cell_type": "markdown",
   "metadata": {},
   "source": [
    "Rule keeping:"
   ]
  },
  {
   "cell_type": "code",
   "execution_count": 29,
   "metadata": {},
   "outputs": [],
   "source": [
    "def verify(candidate, word_list):\n",
    "    if '_' in candidate:\n",
    "        return False\n",
    "    for word in word_list:\n",
    "        if word in candidate or candidate in word:\n",
    "            return False\n",
    "    return True"
   ]
  },
  {
   "cell_type": "markdown",
   "metadata": {},
   "source": [
    "Two word clues!"
   ]
  },
  {
   "cell_type": "code",
   "execution_count": 30,
   "metadata": {
    "collapsed": true
   },
   "outputs": [],
   "source": [
    "import itertools\n",
    "clues_2 = {}\n",
    "for our1, our2 in itertools.combinations(ours, r=2):\n",
    "    our_list = [our1, our2]\n",
    "    candidates = [(c.lower(), s) for c,s in model.most_similar(positive=our_list, topn=50)]\n",
    "    clues_2[(our1, our2)] = [(c,s) for c,s in candidates if verify(c, our_list)][:5]"
   ]
  },
  {
   "cell_type": "code",
   "execution_count": 32,
   "metadata": {},
   "outputs": [
    {
     "data": {
      "text/plain": [
       "[(u'standout', 0.4403938949108124),\n",
       " (u'legend', 0.4198486804962158),\n",
       " (u'fans', 0.41028615832328796),\n",
       " (u'phenom', 0.4011392295360565),\n",
       " (u'idol', 0.4011325240135193)]"
      ]
     },
     "execution_count": 32,
     "metadata": {},
     "output_type": "execute_result"
    }
   ],
   "source": [
    "clues_2[('watch', 'star')]"
   ]
  },
  {
   "cell_type": "code",
   "execution_count": 33,
   "metadata": {},
   "outputs": [
    {
     "data": {
      "text/plain": [
       "[(u'stasi', 0.5160060524940491),\n",
       " (u'hamburg', 0.47616061568260193),\n",
       " (u'german', 0.47304385900497437),\n",
       " (u'budapest', 0.4673951268196106),\n",
       " (u'munich', 0.4670976400375366)]"
      ]
     },
     "execution_count": 33,
     "metadata": {},
     "output_type": "execute_result"
    }
   ],
   "source": [
    "clues_2[('mole', 'Berlin')]"
   ]
  },
  {
   "cell_type": "markdown",
   "metadata": {},
   "source": [
    "Using the whole board:"
   ]
  },
  {
   "cell_type": "code",
   "execution_count": 41,
   "metadata": {
    "collapsed": true
   },
   "outputs": [],
   "source": [
    "candidates = model.most_similar(positive=ours, negative=theirs+[assassin], topn=100)"
   ]
  },
  {
   "cell_type": "code",
   "execution_count": 42,
   "metadata": {
    "collapsed": true
   },
   "outputs": [],
   "source": [
    "import operator\n",
    "cand_words = []\n",
    "for cand,_ in candidates:\n",
    "    if verify(cand, ours):\n",
    "        scores = {}\n",
    "        for our_word in ours:\n",
    "            scores[our_word] = model.similarity(cand, our_word)\n",
    "        cand_words.append((cand, sorted(scores.items(), key=operator.itemgetter(1), reverse=True)[:5]))"
   ]
  },
  {
   "cell_type": "code",
   "execution_count": 43,
   "metadata": {},
   "outputs": [
    {
     "data": {
      "text/plain": [
       "[{u'flashbulbs': ['star', 'limousine', 'wind', 'watch', 'day']},\n",
       " {u'eve': ['day', 'star', 'Berlin', 'watch', 'limousine']},\n",
       " {u'rookies': ['star', 'cap', 'day', 'watch', 'wind']},\n",
       " {u'VIPs': ['limousine', 'watch', 'star', 'mole', 'Berlin']},\n",
       " {u'Tomczyk': ['Berlin', 'cap', 'wind', 'watch', 'day']},\n",
       " {u'Stasi': ['Berlin', 'mole', 'wind', 'watch', 'thumb']},\n",
       " {u'countdown': ['day', 'watch', 'mole', 'star', 'wind']},\n",
       " {u'##/#-hour': ['day', 'watch', 'limousine', 'wind', 'thumb']},\n",
       " {u'invitees': ['limousine', 'star', 'watch', 'day', 'Berlin']},\n",
       " {u'hour': ['day', 'watch', 'limousine', 'wind', 'star']}]"
      ]
     },
     "execution_count": 43,
     "metadata": {},
     "output_type": "execute_result"
    }
   ],
   "source": [
    "[{word: [w for w,s in scores]} for word, scores in cand_words[:10]]"
   ]
  },
  {
   "cell_type": "markdown",
   "metadata": {},
   "source": [
    "Classification!"
   ]
  },
  {
   "cell_type": "code",
   "execution_count": 90,
   "metadata": {
    "collapsed": true
   },
   "outputs": [],
   "source": [
    "import numpy as np\n",
    "from sklearn import linear_model\n",
    "X = np.array([model.word_vec(word) for word in ours + theirs + [assassin]])\n",
    "Y = np.array([1 for i in range(len(ours))] + [-1 for i in range(len(theirs)+1)])\n",
    "#this is an SVM by default\n",
    "clf = linear_model.SGDClassifier(max_iter=1000, fit_intercept=False, penalty='none')\n",
    "clf.fit(X,Y)\n",
    "vec = clf.coef_[0]"
   ]
  },
  {
   "cell_type": "code",
   "execution_count": 91,
   "metadata": {
    "collapsed": true
   },
   "outputs": [],
   "source": [
    "clf_candidates = model.similar_by_vector(vec, topn=100)"
   ]
  },
  {
   "cell_type": "markdown",
   "metadata": {},
   "source": [
    "Getting valid clues similarly:"
   ]
  },
  {
   "cell_type": "code",
   "execution_count": 92,
   "metadata": {
    "collapsed": true
   },
   "outputs": [],
   "source": [
    "clf_cand_words = []\n",
    "for cand,_ in clf_candidates:\n",
    "    if verify(cand, ours):\n",
    "        scores = {}\n",
    "        for our_word in ours:\n",
    "            scores[our_word] = model.similarity(cand, our_word)\n",
    "        clf_cand_words.append({cand: [w for w,s in sorted(scores.items(), key=operator.itemgetter(1), reverse=True)[:5]]})"
   ]
  },
  {
   "cell_type": "code",
   "execution_count": 93,
   "metadata": {},
   "outputs": [
    {
     "data": {
      "text/plain": [
       "[{u'sprain': ['thumb', 'star', 'mole', 'watch', 'cap']},\n",
       " {u'wattage': ['star', 'wind', 'Berlin', 'limousine', 'watch']},\n",
       " {u'gametime': ['watch', 'thumb', 'day', 'wind', 'star']},\n",
       " {u'limos': ['limousine', 'star', 'watch', 'Berlin', 'mole']},\n",
       " {u'flashbulbs': ['star', 'limousine', 'wind', 'watch', 'day']},\n",
       " {u'invitees': ['limousine', 'star', 'watch', 'day', 'Berlin']},\n",
       " {u'MRI': ['thumb', 'mole', 'watch', 'wind', 'cap']},\n",
       " {u'tweeting': ['watch', 'day', 'thumb', 'star', 'mole']},\n",
       " {u'inactives': ['thumb', 'watch', 'day', 'mole', 'limousine']},\n",
       " {u'schedule': ['day', 'watch', 'wind', 'thumb', 'cap']}]"
      ]
     },
     "execution_count": 93,
     "metadata": {},
     "output_type": "execute_result"
    }
   ],
   "source": [
    "#These may not be the same as the blog post due to randomness of SGD, but there should be a good bit of overlap\n",
    "clf_cand_words[:10]"
   ]
  },
  {
   "cell_type": "markdown",
   "metadata": {},
   "source": [
    "Using only a couple of our team's words:"
   ]
  },
  {
   "cell_type": "code",
   "execution_count": 94,
   "metadata": {
    "collapsed": true
   },
   "outputs": [],
   "source": [
    "ours_sub = ['watch', 'star']\n",
    "X = np.array([model.word_vec(word) for word in ours_sub + theirs + [assassin]])\n",
    "Y = np.array([1 for i in range(len(ours_sub))] + [-1 for i in range(len(theirs)+1)])\n",
    "clf = linear_model.SGDClassifier(max_iter=1000, fit_intercept=False, penalty='none')\n",
    "clf.fit(X,Y)\n",
    "vec = clf.coef_[0]"
   ]
  },
  {
   "cell_type": "code",
   "execution_count": 95,
   "metadata": {
    "collapsed": true
   },
   "outputs": [],
   "source": [
    "sub_candidates = model.similar_by_vector(vec, topn=100)"
   ]
  },
  {
   "cell_type": "code",
   "execution_count": 99,
   "metadata": {},
   "outputs": [
    {
     "data": {
      "text/plain": [
       "[u'viewing', u'marquee', u'seeing', u'RATINGS', u'tuned']"
      ]
     },
     "execution_count": 99,
     "metadata": {},
     "output_type": "execute_result"
    }
   ],
   "source": [
    "#Again, may be slightly different\n",
    "[cand for cand,_ in sub_candidates if verify(cand.lower(), ours)][:5]"
   ]
  }
 ],
 "metadata": {
  "kernelspec": {
   "display_name": "Python 2",
   "language": "python",
   "name": "python2"
  },
  "language_info": {
   "codemirror_mode": {
    "name": "ipython",
    "version": 2
   },
   "file_extension": ".py",
   "mimetype": "text/x-python",
   "name": "python",
   "nbconvert_exporter": "python",
   "pygments_lexer": "ipython2",
   "version": "2.7.13"
  }
 },
 "nbformat": 4,
 "nbformat_minor": 2
}
